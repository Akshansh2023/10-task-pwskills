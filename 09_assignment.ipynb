{
 "cells": [
  {
   "cell_type": "markdown",
   "metadata": {},
   "source": [
    "Q1, Create a vehicle class with an init method having instance variables as name_of_vehicle, max_speed\n",
    "and average_of_vehicle."
   ]
  },
  {
   "cell_type": "code",
   "execution_count": 2,
   "metadata": {},
   "outputs": [],
   "source": [
    "#Answer\n",
    "class vehicle:\n",
    "    def __init__(self,name_of_vehicle,max_speed,average_of_vehicle):\n",
    "        self.name_of_vehicle =name_of_vehicle\n",
    "        self.max_speed = max_speed\n",
    "        self.average_of_vehicle = average_of_vehicle\n",
    "\n",
    "       \n",
    "\n"
   ]
  },
  {
   "attachments": {},
   "cell_type": "markdown",
   "metadata": {},
   "source": [
    "Q2. Create a child class car from the vehicle class created in Que 1, which will inherit the vehicle class.\n",
    "Create a method named seating_capacity which takes capacity as an argument and returns the name of\n",
    "the vehicle and its seating capacity."
   ]
  },
  {
   "cell_type": "code",
   "execution_count": 15,
   "metadata": {},
   "outputs": [
    {
     "name": "stdout",
     "output_type": "stream",
     "text": [
      "toyata\n"
     ]
    },
    {
     "data": {
      "text/plain": [
       "23"
      ]
     },
     "execution_count": 15,
     "metadata": {},
     "output_type": "execute_result"
    }
   ],
   "source": [
    "#Answer\n",
    "class childclassVehicle(vehicle):\n",
    "    def seating_capacity(self,capacity):\n",
    "        self.capacity =capacity\n",
    "        return capacity\n",
    "        nameVehicle = vehicle.name_of_vehicle\n",
    "       \n",
    "    # print(capacity)\n",
    "\n",
    "# car1 = \n",
    "car2 = childclassVehicle(\"toyata\",400,230)\n",
    "print(car2.name_of_vehicle)\n",
    "car2.seating_capacity(23)\n",
    "\n",
    "\n",
    "      "
   ]
  },
  {
   "cell_type": "markdown",
   "metadata": {},
   "source": [
    "Q3. What is multiple inheritance? Write a python code to demonstrate multiple inheritance."
   ]
  },
  {
   "attachments": {},
   "cell_type": "markdown",
   "metadata": {},
   "source": [
    "#Answer\n",
    "\n",
    "Multiple inheritance is a feature in object-oriented programming where a class can inherit attributes and methods from multiple parent classes. In Python, multiple inheritance is supported, which means that a child class can inherit from multiple parent classes.\n",
    "\n",
    "Here is an example code to demonstrate multiple inheritance in Python:"
   ]
  },
  {
   "cell_type": "code",
   "execution_count": null,
   "metadata": {},
   "outputs": [],
   "source": [
    "class Parent1:\n",
    "    def method1(self):\n",
    "        print(\"This is method 1 of Parent 1\")\n",
    "\n",
    "class Parent2:\n",
    "    def method2(self):\n",
    "        print(\"This is method 2 of Parent 2\")\n",
    "\n",
    "class Child(Parent1, Parent2):\n",
    "    def method3(self):\n",
    "        print(\"This is method 3 of Child\")\n",
    "\n",
    "# creating an object of Child class\n",
    "obj = Child()\n",
    "\n",
    "# calling the methods of Parent1, Parent2, and Child classes using the object of Child class\n",
    "obj.method1()\n",
    "obj.method2()\n",
    "obj.method3()\n"
   ]
  },
  {
   "cell_type": "markdown",
   "metadata": {},
   "source": [
    "In the above example, there are two parent classes Parent1 and Parent2, and a child class Child that inherits from both the parent classes. The Child class has its own method method3, in addition to inheriting the methods of its parent classes.\n",
    "\n",
    "When we create an object of the Child class, we can call the methods of both the parent classes as well as the child class using the object. The output of the above code would be:"
   ]
  },
  {
   "cell_type": "code",
   "execution_count": null,
   "metadata": {},
   "outputs": [],
   "source": [
    "This is method 1 of Parent 1\n",
    "This is method 2 of Parent 2\n",
    "This is method 3 of Child\n"
   ]
  },
  {
   "cell_type": "markdown",
   "metadata": {},
   "source": [
    "As we can see, the methods of both the parent classes and the child class can be accessed using the object of the Child class. This is an example of multiple inheritance in Python."
   ]
  },
  {
   "attachments": {},
   "cell_type": "markdown",
   "metadata": {},
   "source": [
    "Q4. What are getter and setter in python? Create a class and create a getter and a setter method in this\n",
    "class."
   ]
  },
  {
   "cell_type": "markdown",
   "metadata": {},
   "source": [
    "#Answer \n",
    "Getter and setter are two methods used in object-oriented programming to access and modify the values of attributes or variables in a class. In Python, getter and setter methods can be defined using the @property and @<attribute>.setter decorators, respectively. A getter method is used to retrieve the value of an attribute or variable, while a setter method is used to set the value of an attribute or variable in a class. Using getter and setter methods, we can control access to the attributes of a class and apply validation or data manipulation before setting or getting their values. In short, getter and setter methods provide an interface to access and modify the attributes of a class in a controlled manner.\n",
    "\n",
    "Here's an example code for a class with getter and setter methods:"
   ]
  },
  {
   "cell_type": "code",
   "execution_count": null,
   "metadata": {},
   "outputs": [],
   "source": [
    "class Student:\n",
    "    def __init__(self, name, age):\n",
    "        self._name = name\n",
    "        self._age = age\n",
    "    \n",
    "    @property\n",
    "    def name(self):\n",
    "        return self._name\n",
    "    \n",
    "    @name.setter\n",
    "    def name(self, name):\n",
    "        if isinstance(name, str):\n",
    "            self._name = name\n",
    "        else:\n",
    "            print(\"Invalid name format. Please enter a string.\")\n",
    "    \n",
    "    @property\n",
    "    def age(self):\n",
    "        return self._age\n",
    "    \n",
    "    @age.setter\n",
    "    def age(self, age):\n",
    "        if isinstance(age, int) and age > 0:\n",
    "            self._age = age\n",
    "        else:\n",
    "            print(\"Invalid age format. Please enter a positive integer.\")\n"
   ]
  },
  {
   "cell_type": "markdown",
   "metadata": {},
   "source": [
    "In this example, the Student class has two attributes (name and age), and getter and setter methods are defined for both attributes. The getter methods return the values of the attributes, and the setter methods validate the input and set the values of the attributes if the input is valid."
   ]
  },
  {
   "attachments": {},
   "cell_type": "markdown",
   "metadata": {},
   "source": [
    "Q5.What is method overriding in python? Write a python code to demonstrate method overriding."
   ]
  },
  {
   "cell_type": "markdown",
   "metadata": {},
   "source": [
    "#Answer\n",
    "Method overriding is a feature in object-oriented programming that allows a subclass to provide its own implementation of a method that is already defined in its superclass. When a method is called on an object of a subclass, Python checks whether the subclass has its own implementation of the method. If it does, then the implementation in the subclass is used, otherwise, the implementation in the superclass is used.\n"
   ]
  },
  {
   "cell_type": "code",
   "execution_count": null,
   "metadata": {},
   "outputs": [],
   "source": [
    "#Example \n",
    "class Animal:\n",
    "    def move(self):\n",
    "        print(\"The animal is moving.\")\n",
    "\n",
    "class Dog(Animal):\n",
    "    def move(self):\n",
    "        print(\"The dog is running.\")\n",
    "\n",
    "class Fish(Animal):\n",
    "    pass\n",
    "\n",
    "a = Animal()\n",
    "a.move()\n",
    "\n",
    "d = Dog()\n",
    "d.move()\n",
    "\n",
    "f = Fish()\n",
    "f.move()\n"
   ]
  },
  {
   "cell_type": "code",
   "execution_count": null,
   "metadata": {},
   "outputs": [],
   "source": []
  },
  {
   "cell_type": "code",
   "execution_count": null,
   "metadata": {},
   "outputs": [],
   "source": []
  },
  {
   "cell_type": "code",
   "execution_count": null,
   "metadata": {},
   "outputs": [],
   "source": []
  },
  {
   "cell_type": "code",
   "execution_count": null,
   "metadata": {},
   "outputs": [],
   "source": []
  }
 ],
 "metadata": {
  "kernelspec": {
   "display_name": "Python 3",
   "language": "python",
   "name": "python3"
  },
  "language_info": {
   "codemirror_mode": {
    "name": "ipython",
    "version": 3
   },
   "file_extension": ".py",
   "mimetype": "text/x-python",
   "name": "python",
   "nbconvert_exporter": "python",
   "pygments_lexer": "ipython3",
   "version": "3.11.1"
  },
  "orig_nbformat": 4,
  "vscode": {
   "interpreter": {
    "hash": "f93b20e1d3223fd6eab5e62d4e6188ceec10b61c10ce7642d9451f672963b938"
   }
  }
 },
 "nbformat": 4,
 "nbformat_minor": 2
}
